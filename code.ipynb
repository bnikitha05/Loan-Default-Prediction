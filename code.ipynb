{
 "cells": [
  {
   "cell_type": "markdown",
   "metadata": {},
   "source": [
    "### Business Usecase: \n",
    "\n",
    "SIB(Small Industries Bank) loans money to companies in exchange for the promise of repayment.  Some will default on the loans, being unable to repay them for some reason. The bank maintains insurance to reduce their risk of loss in the event of default. The insured amount may cover all or just some part of the loan amount.  SIB wants to predict which companies will default on their loans based on their financial information. They have provided you with a dataset that consists of loan related information such as loan amount, term, and state. Also, there is company information such as the number of employees, operating sector, etc."
   ]
  },
  {
   "cell_type": "markdown",
   "metadata": {},
   "source": [
    "### Project Scope:\n",
    "\n",
    "Using machine learning, predict which companies will default on their loans and explain how different features impact the predictions.\n",
    "\n",
    "Analyze the given data and learn how different features are related to and affect default_status. With the given data, build a machine learning model which can be used to predict the ‘default_status'.\n",
    " \n",
    "For each record in the test set (test.csv), you must predict the value of the default_status variable. You should submit a CSV file with a header row and one row per test entry. The file (submissions.csv) should have exactly 2 columns:\n",
    "•\tid\n",
    "•\tdefault_status\n"
   ]
  },
  {
   "cell_type": "code",
   "execution_count": 1,
   "metadata": {},
   "outputs": [],
   "source": [
    "import pandas as pd\n",
    "import numpy as np\n",
    "import seaborn as sns\n",
    "import matplotlib.pyplot as plt\n",
    "\n",
    "from sklearn.preprocessing import MinMaxScaler\n",
    "from sklearn import model_selection\n",
    "from sklearn import linear_model\n",
    "from sklearn import utils\n",
    "from sklearn import metrics\n",
    "from imblearn.over_sampling import SMOTE\n",
    "from sklearn import ensemble\n",
    "import shap"
   ]
  },
  {
   "cell_type": "code",
   "execution_count": 2,
   "metadata": {},
   "outputs": [],
   "source": [
    "data = pd.read_csv('data/train.csv')"
   ]
  },
  {
   "cell_type": "markdown",
   "metadata": {},
   "source": [
    "# 1) Data Preparation and Insights"
   ]
  },
  {
   "cell_type": "markdown",
   "metadata": {},
   "source": [
    "## 1.1) Data Processing"
   ]
  },
  {
   "cell_type": "code",
   "execution_count": 3,
   "metadata": {},
   "outputs": [
    {
     "data": {
      "text/html": [
       "<div>\n",
       "<style scoped>\n",
       "    .dataframe tbody tr th:only-of-type {\n",
       "        vertical-align: middle;\n",
       "    }\n",
       "\n",
       "    .dataframe tbody tr th {\n",
       "        vertical-align: top;\n",
       "    }\n",
       "\n",
       "    .dataframe thead th {\n",
       "        text-align: right;\n",
       "    }\n",
       "</style>\n",
       "<table border=\"1\" class=\"dataframe\">\n",
       "  <thead>\n",
       "    <tr style=\"text-align: right;\">\n",
       "      <th></th>\n",
       "      <th>id</th>\n",
       "      <th>industry</th>\n",
       "      <th>state</th>\n",
       "      <th>request_date</th>\n",
       "      <th>term</th>\n",
       "      <th>employee_count</th>\n",
       "      <th>business_new</th>\n",
       "      <th>business_type</th>\n",
       "      <th>location</th>\n",
       "      <th>other_loans</th>\n",
       "      <th>loan_amount</th>\n",
       "      <th>insured_amount</th>\n",
       "      <th>default_status</th>\n",
       "    </tr>\n",
       "  </thead>\n",
       "  <tbody>\n",
       "    <tr>\n",
       "      <th>0</th>\n",
       "      <td>4050975007</td>\n",
       "      <td>Others</td>\n",
       "      <td>VA</td>\n",
       "      <td>27-Apr-10</td>\n",
       "      <td>34</td>\n",
       "      <td>4</td>\n",
       "      <td>New</td>\n",
       "      <td>0</td>\n",
       "      <td>Rural</td>\n",
       "      <td>N</td>\n",
       "      <td>$35,000.00</td>\n",
       "      <td>$35,000.00</td>\n",
       "      <td>1</td>\n",
       "    </tr>\n",
       "    <tr>\n",
       "      <th>1</th>\n",
       "      <td>3735095001</td>\n",
       "      <td>Manufacturing</td>\n",
       "      <td>CA</td>\n",
       "      <td>05-Nov-09</td>\n",
       "      <td>107</td>\n",
       "      <td>1</td>\n",
       "      <td>New</td>\n",
       "      <td>0</td>\n",
       "      <td>Rural</td>\n",
       "      <td>N</td>\n",
       "      <td>$15,000.00</td>\n",
       "      <td>$13,500.00</td>\n",
       "      <td>1</td>\n",
       "    </tr>\n",
       "    <tr>\n",
       "      <th>2</th>\n",
       "      <td>3936555004</td>\n",
       "      <td>Trading</td>\n",
       "      <td>CA</td>\n",
       "      <td>26-Feb-10</td>\n",
       "      <td>84</td>\n",
       "      <td>1</td>\n",
       "      <td>New</td>\n",
       "      <td>0</td>\n",
       "      <td>Rural</td>\n",
       "      <td>Y</td>\n",
       "      <td>$265,000.00</td>\n",
       "      <td>$100,000.00</td>\n",
       "      <td>0</td>\n",
       "    </tr>\n",
       "    <tr>\n",
       "      <th>3</th>\n",
       "      <td>4130405000</td>\n",
       "      <td>Engineering</td>\n",
       "      <td>MI</td>\n",
       "      <td>10-Jun-10</td>\n",
       "      <td>240</td>\n",
       "      <td>21</td>\n",
       "      <td>New</td>\n",
       "      <td>0</td>\n",
       "      <td>Rural</td>\n",
       "      <td>N</td>\n",
       "      <td>$255,000.00</td>\n",
       "      <td>$255,000.00</td>\n",
       "      <td>0</td>\n",
       "    </tr>\n",
       "    <tr>\n",
       "      <th>4</th>\n",
       "      <td>4263615008</td>\n",
       "      <td>Education</td>\n",
       "      <td>NH</td>\n",
       "      <td>23-Sep-10</td>\n",
       "      <td>36</td>\n",
       "      <td>1</td>\n",
       "      <td>Existing</td>\n",
       "      <td>0</td>\n",
       "      <td>Rural</td>\n",
       "      <td>N</td>\n",
       "      <td>$13,300.00</td>\n",
       "      <td>$6,650.00</td>\n",
       "      <td>0</td>\n",
       "    </tr>\n",
       "  </tbody>\n",
       "</table>\n",
       "</div>"
      ],
      "text/plain": [
       "           id       industry state request_date  term  employee_count  \\\n",
       "0  4050975007         Others    VA    27-Apr-10    34               4   \n",
       "1  3735095001  Manufacturing    CA    05-Nov-09   107               1   \n",
       "2  3936555004        Trading    CA    26-Feb-10    84               1   \n",
       "3  4130405000    Engineering    MI    10-Jun-10   240              21   \n",
       "4  4263615008      Education    NH    23-Sep-10    36               1   \n",
       "\n",
       "  business_new  business_type location other_loans  loan_amount  \\\n",
       "0          New              0    Rural           N   $35,000.00   \n",
       "1          New              0    Rural           N   $15,000.00   \n",
       "2          New              0    Rural           Y  $265,000.00   \n",
       "3          New              0    Rural           N  $255,000.00   \n",
       "4     Existing              0    Rural           N   $13,300.00   \n",
       "\n",
       "  insured_amount  default_status  \n",
       "0     $35,000.00               1  \n",
       "1     $13,500.00               1  \n",
       "2    $100,000.00               0  \n",
       "3    $255,000.00               0  \n",
       "4      $6,650.00               0  "
      ]
     },
     "execution_count": 3,
     "metadata": {},
     "output_type": "execute_result"
    }
   ],
   "source": [
    "data.head()"
   ]
  },
  {
   "cell_type": "markdown",
   "metadata": {},
   "source": [
    "### 1.1.1) Handling nulls"
   ]
  },
  {
   "cell_type": "code",
   "execution_count": 4,
   "metadata": {},
   "outputs": [
    {
     "data": {
      "text/html": [
       "<div>\n",
       "<style scoped>\n",
       "    .dataframe tbody tr th:only-of-type {\n",
       "        vertical-align: middle;\n",
       "    }\n",
       "\n",
       "    .dataframe tbody tr th {\n",
       "        vertical-align: top;\n",
       "    }\n",
       "\n",
       "    .dataframe thead th {\n",
       "        text-align: right;\n",
       "    }\n",
       "</style>\n",
       "<table border=\"1\" class=\"dataframe\">\n",
       "  <thead>\n",
       "    <tr style=\"text-align: right;\">\n",
       "      <th></th>\n",
       "      <th>id</th>\n",
       "      <th>industry</th>\n",
       "      <th>state</th>\n",
       "      <th>request_date</th>\n",
       "      <th>term</th>\n",
       "      <th>employee_count</th>\n",
       "      <th>business_new</th>\n",
       "      <th>business_type</th>\n",
       "      <th>location</th>\n",
       "      <th>other_loans</th>\n",
       "      <th>loan_amount</th>\n",
       "      <th>insured_amount</th>\n",
       "      <th>default_status</th>\n",
       "    </tr>\n",
       "  </thead>\n",
       "  <tbody>\n",
       "    <tr>\n",
       "      <th>1946</th>\n",
       "      <td>3771775001</td>\n",
       "      <td>NaN</td>\n",
       "      <td>NH</td>\n",
       "      <td>20-Nov-09</td>\n",
       "      <td>12</td>\n",
       "      <td>1</td>\n",
       "      <td>New</td>\n",
       "      <td>0</td>\n",
       "      <td>Rural</td>\n",
       "      <td>N</td>\n",
       "      <td>$100.00</td>\n",
       "      <td>$75,000.00</td>\n",
       "      <td>0</td>\n",
       "    </tr>\n",
       "  </tbody>\n",
       "</table>\n",
       "</div>"
      ],
      "text/plain": [
       "              id industry state request_date  term  employee_count  \\\n",
       "1946  3771775001      NaN    NH    20-Nov-09    12               1   \n",
       "\n",
       "     business_new  business_type location other_loans loan_amount  \\\n",
       "1946          New              0    Rural           N     $100.00   \n",
       "\n",
       "     insured_amount  default_status  \n",
       "1946     $75,000.00               0  "
      ]
     },
     "execution_count": 4,
     "metadata": {},
     "output_type": "execute_result"
    }
   ],
   "source": [
    "null_data = data[data.isnull().any(axis=1)]\n",
    "null_data"
   ]
  },
  {
   "cell_type": "markdown",
   "metadata": {},
   "source": [
    "There is only one record which has missing industry and this record has 750x more insured amount than loan amount which appears to be an error and therefore, this row is dropped from all further analysis."
   ]
  },
  {
   "cell_type": "code",
   "execution_count": 5,
   "metadata": {},
   "outputs": [],
   "source": [
    "data = data.dropna()"
   ]
  },
  {
   "cell_type": "markdown",
   "metadata": {},
   "source": [
    "### 1.1.2) Data Types Validation"
   ]
  },
  {
   "cell_type": "code",
   "execution_count": 6,
   "metadata": {},
   "outputs": [
    {
     "data": {
      "text/plain": [
       "id                 int64\n",
       "industry          object\n",
       "state             object\n",
       "request_date      object\n",
       "term               int64\n",
       "employee_count     int64\n",
       "business_new      object\n",
       "business_type      int64\n",
       "location          object\n",
       "other_loans       object\n",
       "loan_amount       object\n",
       "insured_amount    object\n",
       "default_status     int64\n",
       "dtype: object"
      ]
     },
     "execution_count": 6,
     "metadata": {},
     "output_type": "execute_result"
    }
   ],
   "source": [
    "data.dtypes"
   ]
  },
  {
   "cell_type": "markdown",
   "metadata": {},
   "source": [
    "columns id, default_status and business_type are categorical fields and therefore their data type will have to be converted to string. Columns loan_amount and insured_amount are numeric values and they have to be converted to float data type."
   ]
  },
  {
   "cell_type": "code",
   "execution_count": 7,
   "metadata": {},
   "outputs": [],
   "source": [
    "data[data.columns[10:12]] = data[data.columns[10:12]].replace('[\\$,]', '', regex=True).astype(float)\n",
    "data['business_type']=data['business_type'].apply(str)\n",
    "data['default_status']=data['default_status'].apply(str)\n",
    "data['id']=data['id'].apply(str)"
   ]
  },
  {
   "cell_type": "markdown",
   "metadata": {},
   "source": [
    "### 1.1.3) Dropping Variables"
   ]
  },
  {
   "cell_type": "markdown",
   "metadata": {},
   "source": [
    "Identifying the distinct count of values across all variables."
   ]
  },
  {
   "cell_type": "code",
   "execution_count": 8,
   "metadata": {},
   "outputs": [
    {
     "data": {
      "text/plain": [
       "id                2401\n",
       "industry            16\n",
       "state               50\n",
       "request_date       271\n",
       "term               155\n",
       "employee_count      88\n",
       "business_new         2\n",
       "business_type        2\n",
       "location             1\n",
       "other_loans          2\n",
       "loan_amount       1030\n",
       "insured_amount     735\n",
       "default_status       2\n",
       "dtype: int64"
      ]
     },
     "execution_count": 8,
     "metadata": {},
     "output_type": "execute_result"
    }
   ],
   "source": [
    "data.nunique()"
   ]
  },
  {
   "cell_type": "markdown",
   "metadata": {},
   "source": [
    "Total number of rows in the dataset:"
   ]
  },
  {
   "cell_type": "code",
   "execution_count": 9,
   "metadata": {},
   "outputs": [
    {
     "data": {
      "text/plain": [
       "2401"
      ]
     },
     "execution_count": 9,
     "metadata": {},
     "output_type": "execute_result"
    }
   ],
   "source": [
    "data.shape[0]"
   ]
  },
  {
   "cell_type": "markdown",
   "metadata": {},
   "source": [
    "It can be seen that every row has a unique id and therfore, the column 'id' can be dropped from the dataframe as it is not required for training the model. 'location' has only 1 distinct value and therfore even this column can be dropped as it will not help the model to diffrentiate."
   ]
  },
  {
   "cell_type": "code",
   "execution_count": 10,
   "metadata": {},
   "outputs": [],
   "source": [
    "data = data.drop(columns=['id'])\n",
    "data = data.drop(columns=['location'])"
   ]
  },
  {
   "cell_type": "markdown",
   "metadata": {},
   "source": [
    "request date is dropped as the time the customer reqested for loan in not necessary for the prediction. "
   ]
  },
  {
   "cell_type": "code",
   "execution_count": 11,
   "metadata": {},
   "outputs": [],
   "source": [
    "data=data.drop(columns=['request_date'])"
   ]
  },
  {
   "cell_type": "markdown",
   "metadata": {},
   "source": [
    "## 1.2) Exploratory Data Analysis"
   ]
  },
  {
   "cell_type": "markdown",
   "metadata": {},
   "source": [
    "Before performing feature engineering, lets understand the relationship between the independant variables and the target variable."
   ]
  },
  {
   "cell_type": "markdown",
   "metadata": {},
   "source": [
    "### 1.2.1) Customers Distribution"
   ]
  },
  {
   "cell_type": "code",
   "execution_count": 12,
   "metadata": {},
   "outputs": [
    {
     "data": {
      "text/plain": [
       "<seaborn.axisgrid.FacetGrid at 0x237f8138d48>"
      ]
     },
     "execution_count": 12,
     "metadata": {},
     "output_type": "execute_result"
    },
    {
     "data": {
      "image/png": "[encoded data removed]",
      "text/plain": [
       "<Figure size 1339.12x504 with 1 Axes>"
      ]
     },
     "metadata": {
      "needs_background": "light"
     },
     "output_type": "display_data"
    }
   ],
   "source": [
    "sub_data=data[['industry', 'default_status' ]]\n",
    "industry_distribution=sub_data.groupby([\"industry\", \"default_status\"]).size().reset_index(name='count')\n",
    "sns.catplot(x=\"industry\", y=\"count\",hue='default_status',\n",
    "               data=industry_distribution, kind=\"bar\",height=7,aspect=2.5)"
   ]
  },
  {
   "cell_type": "markdown",
   "metadata": {},
   "source": [
    "From the plot above, it is visible that most customers are from trading industry and it also has the most number of defaulters."
   ]
  },
  {
   "cell_type": "markdown",
   "metadata": {},
   "source": [
    "### 1.2.2)  Proportion of Defaulting by Industry"
   ]
  },
  {
   "cell_type": "code",
   "execution_count": 13,
   "metadata": {},
   "outputs": [
    {
     "data": {
      "text/plain": [
       "<matplotlib.axes._subplots.AxesSubplot at 0x237f81e8108>"
      ]
     },
     "execution_count": 13,
     "metadata": {},
     "output_type": "execute_result"
    },
    {
     "data": {
      "image/png": "[encoded data removed]",
      "text/plain": [
       "<Figure size 1440x288 with 1 Axes>"
      ]
     },
     "metadata": {},
     "output_type": "display_data"
    }
   ],
   "source": [
    "sub_data=data[['industry', 'default_status' ]]\n",
    "sub_data=pd.DataFrame(sub_data)\n",
    "tempdf=sub_data.groupby(['industry','default_status']).default_status.count().unstack()\n",
    "tempdf['count']=sub_data['industry'].value_counts()\n",
    "tempdf['percent']=tempdf['1']/tempdf['count']*100\n",
    "\n",
    "tempdf.reset_index(inplace=True)\n",
    "#print(tempdf)\n",
    "sns.set(rc={'figure.figsize':(20,4)})\n",
    "clrs = ['grey' if (x < tempdf['percent'].nlargest(3).iloc[2]) else 'red' for x in tempdf['percent'] ]\n",
    "sns.barplot(x='industry',y='percent',data=tempdf,palette=clrs)\n"
   ]
  },
  {
   "cell_type": "markdown",
   "metadata": {},
   "source": [
    "Among all the industries, construction has the highest proportion of defaulters."
   ]
  },
  {
   "cell_type": "markdown",
   "metadata": {},
   "source": [
    "### 1.2.3)  Insured Amount vs Defaulters"
   ]
  },
  {
   "cell_type": "code",
   "execution_count": 14,
   "metadata": {},
   "outputs": [
    {
     "name": "stderr",
     "output_type": "stream",
     "text": [
      "\n",
      "A value is trying to be set on a copy of a slice from a DataFrame.\n",
      "Try using .loc[row_indexer,col_indexer] = value instead\n",
      "\n",
      "See the caveats in the documentation: https://pandas.pydata.org/pandas-docs/stable/user_guide/indexing.html#returning-a-view-versus-a-copy\n"
     ]
    },
    {
     "data": {
      "text/plain": [
       "<seaborn.axisgrid.FacetGrid at 0x237f845cd88>"
      ]
     },
     "execution_count": 14,
     "metadata": {},
     "output_type": "execute_result"
    },
    {
     "data": {
      "image/png": "[encoded data removed]",
      "text/plain": [
       "<Figure size 432.55x360 with 1 Axes>"
      ]
     },
     "metadata": {},
     "output_type": "display_data"
    }
   ],
   "source": [
    "sub_data=data[['loan_amount', 'insured_amount','default_status']]\n",
    "def conditions(sub_data):\n",
    "    if (sub_data['insured_amount'] > sub_data['loan_amount']):\n",
    "        return 'more'\n",
    "    elif (sub_data['insured_amount'] == sub_data['loan_amount']):\n",
    "        return 'same'\n",
    "    else:\n",
    "        return 'less'\n",
    "    \n",
    "sub_data['insurance_amount'] = sub_data.apply(conditions, axis=1)\n",
    "industry_distribution=sub_data.groupby([\"insurance_amount\", \"default_status\"]).size().reset_index(name='count')\n",
    "sns.catplot(x=\"insurance_amount\", y=\"count\",hue='default_status',\n",
    "               data=industry_distribution, kind=\"bar\",height=5)"
   ]
  },
  {
   "cell_type": "markdown",
   "metadata": {},
   "source": [
    "Most cases, the insurance covered is less than the amount of loan. Customers who have the same insured amount as the loan amount defaulted more compared to those who had less or more insurance amount."
   ]
  },
  {
   "cell_type": "markdown",
   "metadata": {},
   "source": [
    "### 1.2.4) Term vs Loan Amount"
   ]
  },
  {
   "cell_type": "markdown",
   "metadata": {},
   "source": [
    "An assumption is made that the term is the count of months and that the payments by the customers are to be made on a monthly basis."
   ]
  },
  {
   "cell_type": "code",
   "execution_count": 16,
   "metadata": {},
   "outputs": [
    {
     "name": "stderr",
     "output_type": "stream",
     "text": [
      "\n",
      "A value is trying to be set on a copy of a slice from a DataFrame.\n",
      "Try using .loc[row_indexer,col_indexer] = value instead\n",
      "\n",
      "See the caveats in the documentation: https://pandas.pydata.org/pandas-docs/stable/user_guide/indexing.html#returning-a-view-versus-a-copy\n"
     ]
    },
    {
     "data": {
      "text/plain": [
       "Text(0, 0.5, 'Estimated Monthly Payments')"
      ]
     },
     "execution_count": 16,
     "metadata": {},
     "output_type": "execute_result"
    },
    {
     "data": {
      "image/png": "[encoded data removed]",
      "text/plain": [
       "<Figure size 360x360 with 1 Axes>"
      ]
     },
     "metadata": {},
     "output_type": "display_data"
    }
   ],
   "source": [
    "sub_data=data[['loan_amount', 'term','default_status']]\n",
    "sub_data['estimated_monthly_payment']=sub_data['loan_amount']/sub_data['term']\n",
    "plt.style.use('seaborn-whitegrid')\n",
    "plt.plot(sub_data['default_status'],sub_data['estimated_monthly_payment'], 'o', color='black')\n",
    "plt.xlabel(\"Default Status\")\n",
    "plt.ylabel(\"Estimated Monthly Payments\")"
   ]
  },
  {
   "cell_type": "markdown",
   "metadata": {},
   "source": [
    "The distribution of defaulters and non defaulters is almost similar. There appears to be two outlier points. However, they will not be removed as more business domain knowledge would be required to come to the couclusion."
   ]
  },
  {
   "cell_type": "markdown",
   "metadata": {},
   "source": [
    "### 1.2.5) Employee Count vs Defaulters"
   ]
  },
  {
   "cell_type": "code",
   "execution_count": 17,
   "metadata": {},
   "outputs": [
    {
     "data": {
      "text/plain": [
       "Text(0, 0.5, 'Employee Count')"
      ]
     },
     "execution_count": 17,
     "metadata": {},
     "output_type": "execute_result"
    },
    {
     "data": {
      "image/png": "[encoded data removed]",
      "text/plain": [
       "<Figure size 360x360 with 1 Axes>"
      ]
     },
     "metadata": {},
     "output_type": "display_data"
    }
   ],
   "source": [
    "sub_data=data[['employee_count','default_status']]\n",
    "plt.style.use('seaborn-whitegrid')\n",
    "plt.plot(sub_data['default_status'],sub_data['employee_count'], 'o', color='black')\n",
    "plt.xlabel(\"Default Status\")\n",
    "plt.ylabel(\"Employee Count\")"
   ]
  },
  {
   "cell_type": "markdown",
   "metadata": {},
   "source": [
    "Business customers who defaulted have employee count less than 100"
   ]
  },
  {
   "cell_type": "markdown",
   "metadata": {},
   "source": [
    "### 1.2.6) Proportion of Defaulting on business new, type and other loans"
   ]
  },
  {
   "cell_type": "code",
   "execution_count": 18,
   "metadata": {},
   "outputs": [
    {
     "data": {
      "text/plain": [
       "<matplotlib.axes._subplots.AxesSubplot at 0x237f8399908>"
      ]
     },
     "execution_count": 18,
     "metadata": {},
     "output_type": "execute_result"
    },
    {
     "data": {
      "image/png": "[encoded data removed]",
      "text/plain": [
       "<Figure size 360x360 with 1 Axes>"
      ]
     },
     "metadata": {},
     "output_type": "display_data"
    }
   ],
   "source": [
    "sub_data=data[['business_new', 'default_status' ]]\n",
    "sub_data=pd.DataFrame(sub_data)\n",
    "tempdf=sub_data.groupby(['business_new','default_status']).default_status.count().unstack()\n",
    "tempdf['count']=sub_data['business_new'].value_counts()\n",
    "tempdf['percent_of_defaulters']=tempdf['1']/tempdf['count']*100\n",
    "\n",
    "tempdf.reset_index(inplace=True)\n",
    "#print(tempdf)\n",
    "sns.set(rc={'figure.figsize':(5,5)})\n",
    "#clrs = ['grey' if (x < tempdf['percent'].nlargest(3).iloc[2]) else 'red' for x in tempdf['percent'] ]\n",
    "sns.barplot(x='business_new',y='percent_of_defaulters',data=tempdf)"
   ]
  },
  {
   "cell_type": "code",
   "execution_count": 19,
   "metadata": {},
   "outputs": [
    {
     "data": {
      "text/plain": [
       "<matplotlib.axes._subplots.AxesSubplot at 0x237f83f1d48>"
      ]
     },
     "execution_count": 19,
     "metadata": {},
     "output_type": "execute_result"
    },
    {
     "data": {
      "image/png": "[encoded data removed]",
      "text/plain": [
       "<Figure size 360x360 with 1 Axes>"
      ]
     },
     "metadata": {},
     "output_type": "display_data"
    }
   ],
   "source": [
    "sub_data=data[['business_type', 'default_status' ]]\n",
    "sub_data=pd.DataFrame(sub_data)\n",
    "tempdf=sub_data.groupby(['business_type','default_status']).default_status.count().unstack()\n",
    "tempdf['count']=sub_data['business_type'].value_counts()\n",
    "tempdf['percent_of_defaulters']=tempdf['1']/tempdf['count']*100\n",
    "\n",
    "tempdf.reset_index(inplace=True)\n",
    "#print(tempdf)\n",
    "sns.set(rc={'figure.figsize':(5,5)})\n",
    "#clrs = ['grey' if (x < tempdf['percent'].nlargest(3).iloc[2]) else 'red' for x in tempdf['percent'] ]\n",
    "sns.barplot(x='business_type',y='percent_of_defaulters',data=tempdf)"
   ]
  },
  {
   "cell_type": "code",
   "execution_count": 20,
   "metadata": {},
   "outputs": [
    {
     "data": {
      "text/plain": [
       "<matplotlib.axes._subplots.AxesSubplot at 0x237f8770f48>"
      ]
     },
     "execution_count": 20,
     "metadata": {},
     "output_type": "execute_result"
    },
    {
     "data": {
      "image/png": "[encoded data removed]",
      "text/plain": [
       "<Figure size 360x360 with 1 Axes>"
      ]
     },
     "metadata": {},
     "output_type": "display_data"
    }
   ],
   "source": [
    "sub_data=data[['other_loans', 'default_status' ]]\n",
    "sub_data=pd.DataFrame(sub_data)\n",
    "tempdf=sub_data.groupby(['other_loans','default_status']).default_status.count().unstack()\n",
    "tempdf['count']=sub_data['other_loans'].value_counts()\n",
    "tempdf['percent_of_defaulters']=tempdf['1']/tempdf['count']*100\n",
    "\n",
    "tempdf.reset_index(inplace=True)\n",
    "#print(tempdf)\n",
    "sns.set(rc={'figure.figsize':(5,5)})\n",
    "#clrs = ['grey' if (x < tempdf['percent'].nlargest(3).iloc[2]) else 'red' for x in tempdf['percent'] ]\n",
    "sns.barplot(x='other_loans',y='percent_of_defaulters',data=tempdf)"
   ]
  },
  {
   "cell_type": "markdown",
   "metadata": {},
   "source": [
    "## 1.3) Observations"
   ]
  },
  {
   "cell_type": "markdown",
   "metadata": {},
   "source": [
    "1) Trading industry is the biggest customer and Construction, Hotel and Engineering are the industries with the largest proportion of defaulters\n",
    "\n",
    "2) Customers with same insured amount as their loan tend to default more\n",
    "\n",
    "3) Monthly payment distribution across defaulters and non defaulters is similar\n",
    "\n",
    "4) Smaller employee count companies default more than companies with higher employee count\n",
    "\n",
    "5) Customers who have no other loan defaulted more than those who have other loans\n",
    "\n",
    "6) Customers with business type =0 defaulted more that type 1"
   ]
  },
  {
   "cell_type": "code",
   "execution_count": 21,
   "metadata": {},
   "outputs": [
    {
     "data": {
      "text/plain": [
       "0    1628\n",
       "1     773\n",
       "Name: default_status, dtype: int64"
      ]
     },
     "execution_count": 21,
     "metadata": {},
     "output_type": "execute_result"
    }
   ],
   "source": [
    "data['default_status'].value_counts()"
   ]
  },
  {
   "cell_type": "markdown",
   "metadata": {},
   "source": [
    "This is an imbalanced data set with only 1/3rd of the dataset consisting of defaulters"
   ]
  },
  {
   "cell_type": "markdown",
   "metadata": {},
   "source": [
    "## 1.4) Feature Engineering"
   ]
  },
  {
   "cell_type": "markdown",
   "metadata": {},
   "source": [
    "### 1.4.1) One Hot Encoding"
   ]
  },
  {
   "cell_type": "markdown",
   "metadata": {},
   "source": [
    "Converting the categorical fields with 2 values into binary vectors with the help of one hot encoding. One hot encoding was preffered as there is no ordering among the values within each category"
   ]
  },
  {
   "cell_type": "code",
   "execution_count": 22,
   "metadata": {},
   "outputs": [
    {
     "data": {
      "text/html": [
       "<div>\n",
       "<style scoped>\n",
       "    .dataframe tbody tr th:only-of-type {\n",
       "        vertical-align: middle;\n",
       "    }\n",
       "\n",
       "    .dataframe tbody tr th {\n",
       "        vertical-align: top;\n",
       "    }\n",
       "\n",
       "    .dataframe thead th {\n",
       "        text-align: right;\n",
       "    }\n",
       "</style>\n",
       "<table border=\"1\" class=\"dataframe\">\n",
       "  <thead>\n",
       "    <tr style=\"text-align: right;\">\n",
       "      <th></th>\n",
       "      <th>industry</th>\n",
       "      <th>state</th>\n",
       "      <th>term</th>\n",
       "      <th>employee_count</th>\n",
       "      <th>loan_amount</th>\n",
       "      <th>insured_amount</th>\n",
       "      <th>default_status</th>\n",
       "      <th>business_new_Existing</th>\n",
       "      <th>business_new_New</th>\n",
       "      <th>business_type_0</th>\n",
       "      <th>business_type_1</th>\n",
       "      <th>other_loans_N</th>\n",
       "      <th>other_loans_Y</th>\n",
       "    </tr>\n",
       "  </thead>\n",
       "  <tbody>\n",
       "    <tr>\n",
       "      <th>0</th>\n",
       "      <td>Others</td>\n",
       "      <td>VA</td>\n",
       "      <td>34</td>\n",
       "      <td>4</td>\n",
       "      <td>35000.0</td>\n",
       "      <td>35000.0</td>\n",
       "      <td>1</td>\n",
       "      <td>0</td>\n",
       "      <td>1</td>\n",
       "      <td>1</td>\n",
       "      <td>0</td>\n",
       "      <td>1</td>\n",
       "      <td>0</td>\n",
       "    </tr>\n",
       "    <tr>\n",
       "      <th>1</th>\n",
       "      <td>Manufacturing</td>\n",
       "      <td>CA</td>\n",
       "      <td>107</td>\n",
       "      <td>1</td>\n",
       "      <td>15000.0</td>\n",
       "      <td>13500.0</td>\n",
       "      <td>1</td>\n",
       "      <td>0</td>\n",
       "      <td>1</td>\n",
       "      <td>1</td>\n",
       "      <td>0</td>\n",
       "      <td>1</td>\n",
       "      <td>0</td>\n",
       "    </tr>\n",
       "    <tr>\n",
       "      <th>2</th>\n",
       "      <td>Trading</td>\n",
       "      <td>CA</td>\n",
       "      <td>84</td>\n",
       "      <td>1</td>\n",
       "      <td>265000.0</td>\n",
       "      <td>100000.0</td>\n",
       "      <td>0</td>\n",
       "      <td>0</td>\n",
       "      <td>1</td>\n",
       "      <td>1</td>\n",
       "      <td>0</td>\n",
       "      <td>0</td>\n",
       "      <td>1</td>\n",
       "    </tr>\n",
       "    <tr>\n",
       "      <th>3</th>\n",
       "      <td>Engineering</td>\n",
       "      <td>MI</td>\n",
       "      <td>240</td>\n",
       "      <td>21</td>\n",
       "      <td>255000.0</td>\n",
       "      <td>255000.0</td>\n",
       "      <td>0</td>\n",
       "      <td>0</td>\n",
       "      <td>1</td>\n",
       "      <td>1</td>\n",
       "      <td>0</td>\n",
       "      <td>1</td>\n",
       "      <td>0</td>\n",
       "    </tr>\n",
       "    <tr>\n",
       "      <th>4</th>\n",
       "      <td>Education</td>\n",
       "      <td>NH</td>\n",
       "      <td>36</td>\n",
       "      <td>1</td>\n",
       "      <td>13300.0</td>\n",
       "      <td>6650.0</td>\n",
       "      <td>0</td>\n",
       "      <td>1</td>\n",
       "      <td>0</td>\n",
       "      <td>1</td>\n",
       "      <td>0</td>\n",
       "      <td>1</td>\n",
       "      <td>0</td>\n",
       "    </tr>\n",
       "    <tr>\n",
       "      <th>...</th>\n",
       "      <td>...</td>\n",
       "      <td>...</td>\n",
       "      <td>...</td>\n",
       "      <td>...</td>\n",
       "      <td>...</td>\n",
       "      <td>...</td>\n",
       "      <td>...</td>\n",
       "      <td>...</td>\n",
       "      <td>...</td>\n",
       "      <td>...</td>\n",
       "      <td>...</td>\n",
       "      <td>...</td>\n",
       "      <td>...</td>\n",
       "    </tr>\n",
       "    <tr>\n",
       "      <th>2397</th>\n",
       "      <td>Trading</td>\n",
       "      <td>NC</td>\n",
       "      <td>55</td>\n",
       "      <td>7</td>\n",
       "      <td>35000.0</td>\n",
       "      <td>35000.0</td>\n",
       "      <td>1</td>\n",
       "      <td>0</td>\n",
       "      <td>1</td>\n",
       "      <td>1</td>\n",
       "      <td>0</td>\n",
       "      <td>1</td>\n",
       "      <td>0</td>\n",
       "    </tr>\n",
       "    <tr>\n",
       "      <th>2398</th>\n",
       "      <td>Manufacturing</td>\n",
       "      <td>WI</td>\n",
       "      <td>60</td>\n",
       "      <td>31</td>\n",
       "      <td>250000.0</td>\n",
       "      <td>187500.0</td>\n",
       "      <td>0</td>\n",
       "      <td>0</td>\n",
       "      <td>1</td>\n",
       "      <td>1</td>\n",
       "      <td>0</td>\n",
       "      <td>1</td>\n",
       "      <td>0</td>\n",
       "    </tr>\n",
       "    <tr>\n",
       "      <th>2399</th>\n",
       "      <td>Manufacturing</td>\n",
       "      <td>TX</td>\n",
       "      <td>240</td>\n",
       "      <td>35</td>\n",
       "      <td>564000.0</td>\n",
       "      <td>564000.0</td>\n",
       "      <td>0</td>\n",
       "      <td>0</td>\n",
       "      <td>1</td>\n",
       "      <td>1</td>\n",
       "      <td>0</td>\n",
       "      <td>1</td>\n",
       "      <td>0</td>\n",
       "    </tr>\n",
       "    <tr>\n",
       "      <th>2400</th>\n",
       "      <td>Manufacturing</td>\n",
       "      <td>RI</td>\n",
       "      <td>47</td>\n",
       "      <td>6</td>\n",
       "      <td>50000.0</td>\n",
       "      <td>25000.0</td>\n",
       "      <td>1</td>\n",
       "      <td>0</td>\n",
       "      <td>1</td>\n",
       "      <td>1</td>\n",
       "      <td>0</td>\n",
       "      <td>0</td>\n",
       "      <td>1</td>\n",
       "    </tr>\n",
       "    <tr>\n",
       "      <th>2401</th>\n",
       "      <td>Hotel</td>\n",
       "      <td>MD</td>\n",
       "      <td>87</td>\n",
       "      <td>2</td>\n",
       "      <td>200000.0</td>\n",
       "      <td>180000.0</td>\n",
       "      <td>0</td>\n",
       "      <td>1</td>\n",
       "      <td>0</td>\n",
       "      <td>0</td>\n",
       "      <td>1</td>\n",
       "      <td>1</td>\n",
       "      <td>0</td>\n",
       "    </tr>\n",
       "  </tbody>\n",
       "</table>\n",
       "<p>2401 rows × 13 columns</p>\n",
       "</div>"
      ],
      "text/plain": [
       "           industry state  term  employee_count  loan_amount  insured_amount  \\\n",
       "0            Others    VA    34               4      35000.0         35000.0   \n",
       "1     Manufacturing    CA   107               1      15000.0         13500.0   \n",
       "2           Trading    CA    84               1     265000.0        100000.0   \n",
       "3       Engineering    MI   240              21     255000.0        255000.0   \n",
       "4         Education    NH    36               1      13300.0          6650.0   \n",
       "...             ...   ...   ...             ...          ...             ...   \n",
       "2397        Trading    NC    55               7      35000.0         35000.0   \n",
       "2398  Manufacturing    WI    60              31     250000.0        187500.0   \n",
       "2399  Manufacturing    TX   240              35     564000.0        564000.0   \n",
       "2400  Manufacturing    RI    47               6      50000.0         25000.0   \n",
       "2401          Hotel    MD    87               2     200000.0        180000.0   \n",
       "\n",
       "     default_status  business_new_Existing  business_new_New  business_type_0  \\\n",
       "0                 1                      0                 1                1   \n",
       "1                 1                      0                 1                1   \n",
       "2                 0                      0                 1                1   \n",
       "3                 0                      0                 1                1   \n",
       "4                 0                      1                 0                1   \n",
       "...             ...                    ...               ...              ...   \n",
       "2397              1                      0                 1                1   \n",
       "2398              0                      0                 1                1   \n",
       "2399              0                      0                 1                1   \n",
       "2400              1                      0                 1                1   \n",
       "2401              0                      1                 0                0   \n",
       "\n",
       "      business_type_1  other_loans_N  other_loans_Y  \n",
       "0                   0              1              0  \n",
       "1                   0              1              0  \n",
       "2                   0              0              1  \n",
       "3                   0              1              0  \n",
       "4                   0              1              0  \n",
       "...               ...            ...            ...  \n",
       "2397                0              1              0  \n",
       "2398                0              1              0  \n",
       "2399                0              1              0  \n",
       "2400                0              0              1  \n",
       "2401                1              1              0  \n",
       "\n",
       "[2401 rows x 13 columns]"
      ]
     },
     "execution_count": 22,
     "metadata": {},
     "output_type": "execute_result"
    }
   ],
   "source": [
    "one_hot_encoded_data = pd.get_dummies(data, columns = ['business_new', 'business_type','other_loans'])\n",
    "one_hot_encoded_data"
   ]
  },
  {
   "cell_type": "markdown",
   "metadata": {},
   "source": [
    "### 1.4.2) Target Encoding"
   ]
  },
  {
   "cell_type": "markdown",
   "metadata": {},
   "source": [
    "Column state has 50 values and industry has 16 and performing one hot encoding will increase the sparsity of the dataset. Therefore, targeted encoding was used by substituting each group in the column with the average response in the target variables."
   ]
  },
  {
   "cell_type": "code",
   "execution_count": 23,
   "metadata": {},
   "outputs": [],
   "source": [
    "one_hot_encoded_data['default_status']=one_hot_encoded_data['default_status'].apply(int)"
   ]
  },
  {
   "cell_type": "code",
   "execution_count": 24,
   "metadata": {},
   "outputs": [],
   "source": [
    "encodings1 = one_hot_encoded_data.groupby('industry')['default_status'].mean().reset_index()\n",
    "encodings2 = one_hot_encoded_data.groupby('state')['default_status'].mean().reset_index()\n",
    "\n",
    "encoded = one_hot_encoded_data.merge(encodings1, how='left', on='industry')\n",
    "encoded = encoded.merge(encodings2, how='left', on='state')\n",
    "\n",
    "encoded.drop('industry', axis=1, inplace=True)\n",
    "encoded.drop('state', axis=1, inplace=True)\n",
    "\n",
    "encoded.rename(columns = {'default_status_y':'industry','default_status_x':'default_status','default_status':'state'}, inplace = True)"
   ]
  },
  {
   "cell_type": "markdown",
   "metadata": {},
   "source": [
    "### 1.4.3) Creating New Variables"
   ]
  },
  {
   "cell_type": "markdown",
   "metadata": {},
   "source": [
    "From EDA, it was observed that customers with the same insurance and loan amount defaulted more. Instead of using amount values for 'insured_amount', the continuous values were converted to 3 categorical values 'less', 'more' and 'same'. However, this processing did not help the model training and therefore, another approach of calculating the difference between loan and insuared amount was used instead."
   ]
  },
  {
   "cell_type": "code",
   "execution_count": 25,
   "metadata": {},
   "outputs": [],
   "source": [
    "encoded['insurance_amount'] = encoded['loan_amount']-encoded['insured_amount']\n",
    "encoded=encoded.drop(columns=['insured_amount'])"
   ]
  },
  {
   "cell_type": "markdown",
   "metadata": {},
   "source": [
    "#### Final Processed dataset used to train the models:"
   ]
  },
  {
   "cell_type": "code",
   "execution_count": 26,
   "metadata": {},
   "outputs": [
    {
     "data": {
      "text/html": [
       "<div>\n",
       "<style scoped>\n",
       "    .dataframe tbody tr th:only-of-type {\n",
       "        vertical-align: middle;\n",
       "    }\n",
       "\n",
       "    .dataframe tbody tr th {\n",
       "        vertical-align: top;\n",
       "    }\n",
       "\n",
       "    .dataframe thead th {\n",
       "        text-align: right;\n",
       "    }\n",
       "</style>\n",
       "<table border=\"1\" class=\"dataframe\">\n",
       "  <thead>\n",
       "    <tr style=\"text-align: right;\">\n",
       "      <th></th>\n",
       "      <th>term</th>\n",
       "      <th>employee_count</th>\n",
       "      <th>loan_amount</th>\n",
       "      <th>default_status</th>\n",
       "      <th>business_new_Existing</th>\n",
       "      <th>business_new_New</th>\n",
       "      <th>business_type_0</th>\n",
       "      <th>business_type_1</th>\n",
       "      <th>other_loans_N</th>\n",
       "      <th>other_loans_Y</th>\n",
       "      <th>industry</th>\n",
       "      <th>state</th>\n",
       "      <th>insurance_amount</th>\n",
       "    </tr>\n",
       "  </thead>\n",
       "  <tbody>\n",
       "    <tr>\n",
       "      <th>0</th>\n",
       "      <td>34</td>\n",
       "      <td>4</td>\n",
       "      <td>35000.0</td>\n",
       "      <td>1</td>\n",
       "      <td>0</td>\n",
       "      <td>1</td>\n",
       "      <td>1</td>\n",
       "      <td>0</td>\n",
       "      <td>1</td>\n",
       "      <td>0</td>\n",
       "      <td>0.363095</td>\n",
       "      <td>0.300000</td>\n",
       "      <td>0.0</td>\n",
       "    </tr>\n",
       "    <tr>\n",
       "      <th>1</th>\n",
       "      <td>107</td>\n",
       "      <td>1</td>\n",
       "      <td>15000.0</td>\n",
       "      <td>1</td>\n",
       "      <td>0</td>\n",
       "      <td>1</td>\n",
       "      <td>1</td>\n",
       "      <td>0</td>\n",
       "      <td>1</td>\n",
       "      <td>0</td>\n",
       "      <td>0.232653</td>\n",
       "      <td>0.358362</td>\n",
       "      <td>1500.0</td>\n",
       "    </tr>\n",
       "    <tr>\n",
       "      <th>2</th>\n",
       "      <td>84</td>\n",
       "      <td>1</td>\n",
       "      <td>265000.0</td>\n",
       "      <td>0</td>\n",
       "      <td>0</td>\n",
       "      <td>1</td>\n",
       "      <td>1</td>\n",
       "      <td>0</td>\n",
       "      <td>0</td>\n",
       "      <td>1</td>\n",
       "      <td>0.356299</td>\n",
       "      <td>0.358362</td>\n",
       "      <td>165000.0</td>\n",
       "    </tr>\n",
       "    <tr>\n",
       "      <th>3</th>\n",
       "      <td>240</td>\n",
       "      <td>21</td>\n",
       "      <td>255000.0</td>\n",
       "      <td>0</td>\n",
       "      <td>0</td>\n",
       "      <td>1</td>\n",
       "      <td>1</td>\n",
       "      <td>0</td>\n",
       "      <td>1</td>\n",
       "      <td>0</td>\n",
       "      <td>0.375000</td>\n",
       "      <td>0.235294</td>\n",
       "      <td>0.0</td>\n",
       "    </tr>\n",
       "    <tr>\n",
       "      <th>4</th>\n",
       "      <td>36</td>\n",
       "      <td>1</td>\n",
       "      <td>13300.0</td>\n",
       "      <td>0</td>\n",
       "      <td>1</td>\n",
       "      <td>0</td>\n",
       "      <td>1</td>\n",
       "      <td>0</td>\n",
       "      <td>1</td>\n",
       "      <td>0</td>\n",
       "      <td>0.206897</td>\n",
       "      <td>0.185185</td>\n",
       "      <td>6650.0</td>\n",
       "    </tr>\n",
       "    <tr>\n",
       "      <th>...</th>\n",
       "      <td>...</td>\n",
       "      <td>...</td>\n",
       "      <td>...</td>\n",
       "      <td>...</td>\n",
       "      <td>...</td>\n",
       "      <td>...</td>\n",
       "      <td>...</td>\n",
       "      <td>...</td>\n",
       "      <td>...</td>\n",
       "      <td>...</td>\n",
       "      <td>...</td>\n",
       "      <td>...</td>\n",
       "      <td>...</td>\n",
       "    </tr>\n",
       "    <tr>\n",
       "      <th>2396</th>\n",
       "      <td>55</td>\n",
       "      <td>7</td>\n",
       "      <td>35000.0</td>\n",
       "      <td>1</td>\n",
       "      <td>0</td>\n",
       "      <td>1</td>\n",
       "      <td>1</td>\n",
       "      <td>0</td>\n",
       "      <td>1</td>\n",
       "      <td>0</td>\n",
       "      <td>0.356299</td>\n",
       "      <td>0.361702</td>\n",
       "      <td>0.0</td>\n",
       "    </tr>\n",
       "    <tr>\n",
       "      <th>2397</th>\n",
       "      <td>60</td>\n",
       "      <td>31</td>\n",
       "      <td>250000.0</td>\n",
       "      <td>0</td>\n",
       "      <td>0</td>\n",
       "      <td>1</td>\n",
       "      <td>1</td>\n",
       "      <td>0</td>\n",
       "      <td>1</td>\n",
       "      <td>0</td>\n",
       "      <td>0.232653</td>\n",
       "      <td>0.225000</td>\n",
       "      <td>62500.0</td>\n",
       "    </tr>\n",
       "    <tr>\n",
       "      <th>2398</th>\n",
       "      <td>240</td>\n",
       "      <td>35</td>\n",
       "      <td>564000.0</td>\n",
       "      <td>0</td>\n",
       "      <td>0</td>\n",
       "      <td>1</td>\n",
       "      <td>1</td>\n",
       "      <td>0</td>\n",
       "      <td>1</td>\n",
       "      <td>0</td>\n",
       "      <td>0.232653</td>\n",
       "      <td>0.314136</td>\n",
       "      <td>0.0</td>\n",
       "    </tr>\n",
       "    <tr>\n",
       "      <th>2399</th>\n",
       "      <td>47</td>\n",
       "      <td>6</td>\n",
       "      <td>50000.0</td>\n",
       "      <td>1</td>\n",
       "      <td>0</td>\n",
       "      <td>1</td>\n",
       "      <td>1</td>\n",
       "      <td>0</td>\n",
       "      <td>0</td>\n",
       "      <td>1</td>\n",
       "      <td>0.232653</td>\n",
       "      <td>0.142857</td>\n",
       "      <td>25000.0</td>\n",
       "    </tr>\n",
       "    <tr>\n",
       "      <th>2400</th>\n",
       "      <td>87</td>\n",
       "      <td>2</td>\n",
       "      <td>200000.0</td>\n",
       "      <td>0</td>\n",
       "      <td>1</td>\n",
       "      <td>0</td>\n",
       "      <td>0</td>\n",
       "      <td>1</td>\n",
       "      <td>1</td>\n",
       "      <td>0</td>\n",
       "      <td>0.383673</td>\n",
       "      <td>0.461538</td>\n",
       "      <td>20000.0</td>\n",
       "    </tr>\n",
       "  </tbody>\n",
       "</table>\n",
       "<p>2401 rows × 13 columns</p>\n",
       "</div>"
      ],
      "text/plain": [
       "      term  employee_count  loan_amount  default_status  \\\n",
       "0       34               4      35000.0               1   \n",
       "1      107               1      15000.0               1   \n",
       "2       84               1     265000.0               0   \n",
       "3      240              21     255000.0               0   \n",
       "4       36               1      13300.0               0   \n",
       "...    ...             ...          ...             ...   \n",
       "2396    55               7      35000.0               1   \n",
       "2397    60              31     250000.0               0   \n",
       "2398   240              35     564000.0               0   \n",
       "2399    47               6      50000.0               1   \n",
       "2400    87               2     200000.0               0   \n",
       "\n",
       "      business_new_Existing  business_new_New  business_type_0  \\\n",
       "0                         0                 1                1   \n",
       "1                         0                 1                1   \n",
       "2                         0                 1                1   \n",
       "3                         0                 1                1   \n",
       "4                         1                 0                1   \n",
       "...                     ...               ...              ...   \n",
       "2396                      0                 1                1   \n",
       "2397                      0                 1                1   \n",
       "2398                      0                 1                1   \n",
       "2399                      0                 1                1   \n",
       "2400                      1                 0                0   \n",
       "\n",
       "      business_type_1  other_loans_N  other_loans_Y  industry     state  \\\n",
       "0                   0              1              0  0.363095  0.300000   \n",
       "1                   0              1              0  0.232653  0.358362   \n",
       "2                   0              0              1  0.356299  0.358362   \n",
       "3                   0              1              0  0.375000  0.235294   \n",
       "4                   0              1              0  0.206897  0.185185   \n",
       "...               ...            ...            ...       ...       ...   \n",
       "2396                0              1              0  0.356299  0.361702   \n",
       "2397                0              1              0  0.232653  0.225000   \n",
       "2398                0              1              0  0.232653  0.314136   \n",
       "2399                0              0              1  0.232653  0.142857   \n",
       "2400                1              1              0  0.383673  0.461538   \n",
       "\n",
       "      insurance_amount  \n",
       "0                  0.0  \n",
       "1               1500.0  \n",
       "2             165000.0  \n",
       "3                  0.0  \n",
       "4               6650.0  \n",
       "...                ...  \n",
       "2396               0.0  \n",
       "2397           62500.0  \n",
       "2398               0.0  \n",
       "2399           25000.0  \n",
       "2400           20000.0  \n",
       "\n",
       "[2401 rows x 13 columns]"
      ]
     },
     "execution_count": 26,
     "metadata": {},
     "output_type": "execute_result"
    }
   ],
   "source": [
    "encoded"
   ]
  },
  {
   "cell_type": "markdown",
   "metadata": {},
   "source": [
    "# 2) Model Building & Evaluation"
   ]
  },
  {
   "cell_type": "markdown",
   "metadata": {},
   "source": [
    "## 2.1) Logistic Regression"
   ]
  },
  {
   "cell_type": "markdown",
   "metadata": {},
   "source": [
    "### 2.1.1) LR without Upsampling"
   ]
  },
  {
   "cell_type": "code",
   "execution_count": 27,
   "metadata": {},
   "outputs": [],
   "source": [
    "x = encoded.drop([\"default_status\"], axis=1)\n",
    "y = encoded[\"default_status\"]\n",
    "\n",
    "# train test split\n",
    "x_train, x_test, y_train, y_test = model_selection.train_test_split(x, y, test_size = 0.2, shuffle=True, stratify=y, random_state = 123)\n",
    "\n",
    "# scale data\n",
    "scaler = MinMaxScaler()\n",
    "x_train = scaler.fit_transform(x_train)\n",
    "x_test = scaler.transform(x_test)"
   ]
  },
  {
   "cell_type": "code",
   "execution_count": 28,
   "metadata": {},
   "outputs": [
    {
     "name": "stdout",
     "output_type": "stream",
     "text": [
      "Accuracy: 72.77\n",
      "Precision: 63.33\n",
      "Recall: 36.77\n",
      "f-beta score: 40.14\n",
      "AUC: 0.8044725905402732\n"
     ]
    }
   ],
   "source": [
    "lr = linear_model.LogisticRegression(C=1, solver='liblinear', random_state=123)\n",
    "lr.fit(x_train, y_train)\n",
    "y_pred = lr.predict(x_test)\n",
    "y_pred_prob = lr.predict_proba(x_test)[:,1]\n",
    "\n",
    "\n",
    "print('Accuracy:', round(metrics.accuracy_score(y_test, y_pred)*100,2))\n",
    "print('Precision:', round(metrics.precision_score(y_test, y_pred)*100,2))\n",
    "print('Recall:', round(metrics.recall_score(y_test, y_pred)*100,2))\n",
    "print('f-beta score:', round(metrics.fbeta_score(y_test, y_pred, beta=2)*100,2))\n",
    "print('AUC:', metrics.roc_auc_score(y_test, y_pred_prob))"
   ]
  },
  {
   "cell_type": "markdown",
   "metadata": {},
   "source": [
    "#### evaluation metric:\n",
    "\n",
    "Since this is an imbalanced data set, accuracy would not be the ideal metric. Since the motivation of the project is to identify correctly the customers who would default, it is necessary that we have as small number of 'False Negatives' as possible. Therefore, the metric must penalize if there are many false negatives and the more suitable metric would be F2 score with more weightage given to recall."
   ]
  },
  {
   "cell_type": "code",
   "execution_count": 29,
   "metadata": {},
   "outputs": [
    {
     "data": {
      "image/png": "[encoded data removed]",
      "text/plain": [
       "<Figure size 216x216 with 2 Axes>"
      ]
     },
     "metadata": {},
     "output_type": "display_data"
    }
   ],
   "source": [
    "plt.figure(figsize=(3,3))\n",
    "sns.heatmap(metrics.confusion_matrix(y_test,y_pred), annot=True, fmt=\".3f\", linewidths=.2, square = True, cmap = 'Blues_r');\n",
    "plt.ylabel('Actual label');\n",
    "plt.xlabel('Predicted label');\n",
    "all_sample_title = 'F-2 Score: {0}'.format(round(metrics.fbeta_score(y_test, y_pred, beta=2)*100,2))\n",
    "plt.title(all_sample_title, size = 10);"
   ]
  },
  {
   "cell_type": "markdown",
   "metadata": {},
   "source": [
    "From the confusion matrix above, we can see that there are 98 FN and the f2 score is only 40%. This is a poor performing model."
   ]
  },
  {
   "cell_type": "markdown",
   "metadata": {},
   "source": [
    "### 2.1.2) LR with Upsampling Minority Class"
   ]
  },
  {
   "cell_type": "markdown",
   "metadata": {},
   "source": [
    "Since the data is imbalanced, lets try with increasing the minority class count and then train the same LR model as above."
   ]
  },
  {
   "cell_type": "code",
   "execution_count": 30,
   "metadata": {},
   "outputs": [
    {
     "name": "stdout",
     "output_type": "stream",
     "text": [
      "Counter({0: 1302, 1: 618})\n",
      "Counter({0: 326, 1: 155})\n",
      "1920\n",
      "1920\n",
      "481\n",
      "481\n"
     ]
    }
   ],
   "source": [
    "x = encoded.drop([\"default_status\"], axis=1)\n",
    "y = encoded[\"default_status\"]\n",
    "\n",
    "x_train, x_test, y_train, y_test = model_selection.train_test_split(x, y, \n",
    "            test_size=0.2, stratify=y, shuffle=True, random_state=123)\n",
    "\n",
    "scaler = MinMaxScaler()\n",
    "x_train = scaler.fit_transform(x_train)\n",
    "x_test = scaler.transform(x_test)\n",
    "\n",
    "x_train = np.array(x_train.tolist())\n",
    "y_train = np.array(y_train.tolist())\n",
    "x_test = np.array(x_test.tolist())\n",
    "y_test = np.array(y_test.tolist())\n",
    "\n",
    "from collections import Counter\n",
    "print(Counter(y_train))\n",
    "print(Counter(y_test))\n",
    "\n",
    "print(len(x_train))\n",
    "print(len(y_train))\n",
    "print(len(x_test))\n",
    "print(len(y_test))"
   ]
  },
  {
   "cell_type": "markdown",
   "metadata": {},
   "source": [
    "The SMOTE technique is used to upsample the minority class. It can be seen that the initial y_train that had only 618 1's, has been upsampled to 1302 which is the same number as the 0's. Also only the training data has been upsampled."
   ]
  },
  {
   "cell_type": "code",
   "execution_count": 31,
   "metadata": {},
   "outputs": [
    {
     "name": "stdout",
     "output_type": "stream",
     "text": [
      "Counter({0: 1302, 1: 1302})\n",
      "Counter({0: 326, 1: 155})\n",
      "2604\n",
      "2604\n",
      "481\n",
      "481\n"
     ]
    }
   ],
   "source": [
    "sm = SMOTE(random_state = 5)\n",
    "x_upsampled_train, y_upsampled_train = sm.fit_resample(x_train, y_train)\n",
    "\n",
    "print(Counter(y_upsampled_train))\n",
    "print(Counter(y_test))\n",
    "\n",
    "print(len(x_upsampled_train))\n",
    "print(len(y_upsampled_train))\n",
    "print(len(x_test))\n",
    "print(len(y_test))"
   ]
  },
  {
   "cell_type": "code",
   "execution_count": 32,
   "metadata": {},
   "outputs": [
    {
     "name": "stdout",
     "output_type": "stream",
     "text": [
      "Accuracy: 71.1\n",
      "Precision: 53.67\n",
      "Recall: 75.48\n",
      "f-beta score: 69.81\n",
      "AUC: 0.8038393033841282\n"
     ]
    }
   ],
   "source": [
    "lr = linear_model.LogisticRegression(C=1, solver='liblinear' , random_state=123)\n",
    "lr.fit(x_upsampled_train, y_upsampled_train)\n",
    "y_pred = lr.predict(x_test)\n",
    "y_pred_prob = lr.predict_proba(x_test)[:,1]\n",
    "\n",
    "\n",
    "print('Accuracy:', round(metrics.accuracy_score(y_test, y_pred)*100,2))\n",
    "print('Precision:', round(metrics.precision_score(y_test, y_pred)*100,2))\n",
    "print('Recall:', round(metrics.recall_score(y_test, y_pred)*100,2))\n",
    "print('f-beta score:', round(metrics.fbeta_score(y_test, y_pred, beta=2)*100,2))\n",
    "print('AUC:', metrics.roc_auc_score(y_test, y_pred_prob))"
   ]
  },
  {
   "cell_type": "code",
   "execution_count": 33,
   "metadata": {},
   "outputs": [
    {
     "data": {
      "image/png": "[encoded data removed]",
      "text/plain": [
       "<Figure size 216x216 with 2 Axes>"
      ]
     },
     "metadata": {},
     "output_type": "display_data"
    }
   ],
   "source": [
    "plt.figure(figsize=(3,3))\n",
    "sns.heatmap(metrics.confusion_matrix(y_test,y_pred), annot=True, fmt=\".3f\", linewidths=.2, square = True, cmap = 'Blues_r');\n",
    "plt.ylabel('Actual label');\n",
    "plt.xlabel('Predicted label');\n",
    "all_sample_title = 'F-beta Score: {0}'.format(round(metrics.fbeta_score(y_test, y_pred, beta=2)*100,2))\n",
    "plt.title(all_sample_title, size = 10);"
   ]
  },
  {
   "cell_type": "markdown",
   "metadata": {},
   "source": [
    "With help of SMOTE, there has been a drastic increase in the f2 score. Previously it was only 40% but now after upsampling, it is 69.8%. The number of FN has reduced to 38 from 98.\n",
    "\n",
    "#### Since it is clear that it is better to use the upsampled dataset, in the next steps only the upsampled dataset will be used"
   ]
  },
  {
   "cell_type": "markdown",
   "metadata": {},
   "source": [
    "### 2.1.3) Model Tuning & Identifying Threshold"
   ]
  },
  {
   "cell_type": "code",
   "execution_count": 34,
   "metadata": {},
   "outputs": [
    {
     "name": "stderr",
     "output_type": "stream",
     "text": [
      "Precision is ill-defined and being set to 0.0 due to no predicted samples. Use `zero_division` parameter to control this behavior.\n",
      "Precision is ill-defined and being set to 0.0 due to no predicted samples. Use `zero_division` parameter to control this behavior.\n",
      "Precision is ill-defined and being set to 0.0 due to no predicted samples. Use `zero_division` parameter to control this behavior.\n",
      "Precision is ill-defined and being set to 0.0 due to no predicted samples. Use `zero_division` parameter to control this behavior.\n",
      "Precision is ill-defined and being set to 0.0 due to no predicted samples. Use `zero_division` parameter to control this behavior.\n",
      "Precision is ill-defined and being set to 0.0 due to no predicted samples. Use `zero_division` parameter to control this behavior.\n",
      "Precision is ill-defined and being set to 0.0 due to no predicted samples. Use `zero_division` parameter to control this behavior.\n"
     ]
    }
   ],
   "source": [
    "# Fit and predict test class probabilities\n",
    "\n",
    "lr = linear_model.LogisticRegression()\n",
    "lr.fit(x_upsampled_train, y_upsampled_train)\n",
    "y_pred = lr.predict(x_test)\n",
    "y_test_probs = lr.predict_proba(x_test)[:,1]\n",
    "\n",
    "f1_scores = []\n",
    "f0_5_scores = []\n",
    "f2_scores = []\n",
    "precision_scores = []\n",
    "recall_scores = []\n",
    "\n",
    "# Define probability thresholds to use, between 0 and 1\n",
    "probability_thresholds = np.linspace(0, 1, num=100)\n",
    "\n",
    "# Find scores for each threshold\n",
    "for p in probability_thresholds:\n",
    "    y_test_preds = []\n",
    "    \n",
    "    for prob in y_test_probs:\n",
    "        if prob > p:\n",
    "            y_test_preds.append(1)\n",
    "        else:\n",
    "            y_test_preds.append(0)\n",
    "            \n",
    "    f1 = metrics.f1_score(y_test, y_test_preds)\n",
    "    f0_5 = metrics.fbeta_score(y_test, y_test_preds, beta=0.5)\n",
    "    f2 = metrics.fbeta_score(y_test, y_test_preds, beta=2)\n",
    "    prec = metrics.precision_score(y_test, y_test_preds)\n",
    "    rec = metrics.recall_score(y_test, y_test_preds)\n",
    "        \n",
    "    f1_scores.append(f1)\n",
    "    f0_5_scores.append(f0_5)\n",
    "    f2_scores.append(f2)\n",
    "    precision_scores.append(prec)\n",
    "    recall_scores.append(rec)"
   ]
  },
  {
   "cell_type": "code",
   "execution_count": 35,
   "metadata": {},
   "outputs": [
    {
     "data": {
      "image/png": "[encoded data removed]",
      "text/plain": [
       "<Figure size 576x432 with 1 Axes>"
      ]
     },
     "metadata": {},
     "output_type": "display_data"
    }
   ],
   "source": [
    "import matplotlib.pyplot as plt\n",
    "# Plot f_beta, precision, recall curves\n",
    "fig, ax = plt.subplots(figsize=(8,6))\n",
    "ax.plot(probability_thresholds, f0_5_scores , label='f0.5')\n",
    "ax.plot(probability_thresholds, f1_scores, label='f1')\n",
    "ax.plot(probability_thresholds, f2_scores, label='f2')\n",
    "ax.plot(probability_thresholds, precision_scores, label='Precision')\n",
    "ax.plot(probability_thresholds, recall_scores, label='Recall')\n",
    "ax.set_xlabel('Probability Threshold')\n",
    "ax.set_ylabel('f-beta score')\n",
    "ax.legend(loc='center right');"
   ]
  },
  {
   "cell_type": "markdown",
   "metadata": {},
   "source": [
    "Selecting the threshold where the F2 score is the largest"
   ]
  },
  {
   "cell_type": "code",
   "execution_count": 36,
   "metadata": {},
   "outputs": [
    {
     "data": {
      "text/plain": [
       "0.33333333333333337"
      ]
     },
     "execution_count": 36,
     "metadata": {},
     "output_type": "execute_result"
    }
   ],
   "source": [
    "max_position=np.argmax(f2_scores)\n",
    "optimal_threshold=probability_thresholds[max_position]\n",
    "optimal_threshold"
   ]
  },
  {
   "cell_type": "markdown",
   "metadata": {},
   "source": [
    "#### Finding optimal C value (hyperparameter tunning)"
   ]
  },
  {
   "cell_type": "code",
   "execution_count": 37,
   "metadata": {},
   "outputs": [
    {
     "name": "stdout",
     "output_type": "stream",
     "text": [
      "c=:  1e-05\n",
      "f2 score: 70.39\n",
      "c=:  0.0001\n",
      "f2 score: 70.39\n",
      "c=:  0.001\n",
      "f2 score: 70.39\n",
      "c=:  0.01\n",
      "f2 score: 70.84\n",
      "c=:  0.1\n",
      "f2 score: 75.62\n",
      "c=:  1\n",
      "f2 score: 78.62\n",
      "c=:  10\n",
      "f2 score: 77.05\n",
      "c=:  100\n",
      "f2 score: 76.51\n",
      "c=:  1000\n",
      "f2 score: 76.51\n"
     ]
    }
   ],
   "source": [
    "from sklearn import linear_model\n",
    "from sklearn.metrics import fbeta_score\n",
    "C = [0.00001, 0.0001, 0.001, 0.01, 0.1, 1,10,100,1000]\n",
    "for i in C:\n",
    "    print(\"c=: \",i)\n",
    "    clf = linear_model.LogisticRegression(C = i,solver='liblinear' )\n",
    "    clf.fit(x_upsampled_train, y_upsampled_train)\n",
    "    y_test_probs = clf.predict_proba(x_test)[:,1]\n",
    "    y_test_pred = []\n",
    "    \n",
    "    for prob in y_test_probs:\n",
    "        if prob > optimal_threshold:\n",
    "            y_test_pred.append(1)\n",
    "        else:\n",
    "            y_test_pred.append(0)\n",
    "    print(\"f2 score:\",round(fbeta_score(y_test, y_test_pred,  beta=2, labels=None, pos_label=1)*100,2))"
   ]
  },
  {
   "cell_type": "markdown",
   "metadata": {},
   "source": [
    "Since the F2 score is highest for C=1, we will consider C to be 1"
   ]
  },
  {
   "cell_type": "markdown",
   "metadata": {},
   "source": [
    "Building Logistic Regression model with obtained optimal C value"
   ]
  },
  {
   "cell_type": "code",
   "execution_count": 38,
   "metadata": {},
   "outputs": [
    {
     "name": "stdout",
     "output_type": "stream",
     "text": [
      "Accuracy: 60.71\n",
      "Precision: 44.91\n",
      "Recall: 96.77\n",
      "f-beta score: 78.62\n",
      "AUC: 0.8038393033841282\n"
     ]
    },
    {
     "data": {
      "image/png": "[encoded data removed]",
      "text/plain": [
       "<Figure size 360x360 with 1 Axes>"
      ]
     },
     "metadata": {},
     "output_type": "display_data"
    }
   ],
   "source": [
    "logmodel=linear_model.LogisticRegression(C=1,solver='liblinear' )\n",
    "logmodel.fit(x_upsampled_train,y_upsampled_train)\n",
    "y_pred_probs=logmodel.predict_proba(x_test)[:,1]\n",
    "y_test_pred = []\n",
    "\n",
    "for prob in y_pred_probs:\n",
    "    if prob > optimal_threshold:\n",
    "        y_test_pred.append(1)\n",
    "    else:\n",
    "        y_test_pred.append(0)\n",
    "\n",
    "print('Accuracy:', round(metrics.accuracy_score(y_test, y_test_pred)*100,2))\n",
    "print('Precision:', round(metrics.precision_score(y_test, y_test_pred)*100,2))\n",
    "print('Recall:', round( metrics.recall_score(y_test, y_test_pred)*100,2))\n",
    "print('f-beta score:', round(fbeta_score(y_test, y_test_pred,  beta=2, labels=None, pos_label=1)*100,2))\n",
    "\n",
    "# calculate the ROC curve\n",
    "fpr, tpr, thresholds = metrics.roc_curve(y_test, y_pred_probs)\n",
    "# Calculate AUC\n",
    "print('AUC:', metrics.roc_auc_score(y_test, y_pred_probs))\n",
    "\n",
    "plt.plot([0, 1], [0, 1], ls = '--')\n",
    "plt.plot(fpr, tpr, marker = '.')\n",
    "plt.xlabel('FPR')\n",
    "plt.ylabel('TPR')\n",
    "plt.title('ROC Curve')\n",
    "plt.show()"
   ]
  },
  {
   "cell_type": "code",
   "execution_count": 39,
   "metadata": {},
   "outputs": [
    {
     "data": {
      "image/png": "[encoded data removed]",
      "text/plain": [
       "<Figure size 216x216 with 2 Axes>"
      ]
     },
     "metadata": {},
     "output_type": "display_data"
    }
   ],
   "source": [
    "import seaborn as sns\n",
    "plt.figure(figsize=(3,3))\n",
    "sns.heatmap(metrics.confusion_matrix(y_test,y_test_pred), annot=True, fmt=\".3f\", linewidths=.2, square = True, cmap = 'Blues_r');\n",
    "plt.ylabel('Actual label');\n",
    "plt.xlabel('Predicted label');\n",
    "all_sample_title = 'F-2 Score: {0}'.format(round(metrics.fbeta_score(y_test, y_test_pred, beta=2)*100,2))\n",
    "plt.title(all_sample_title, size = 10);"
   ]
  },
  {
   "cell_type": "markdown",
   "metadata": {},
   "source": [
    "The recall for the model if very high. However, the precision is very low."
   ]
  },
  {
   "cell_type": "markdown",
   "metadata": {},
   "source": [
    "## 2.2)  Random Forest"
   ]
  },
  {
   "cell_type": "markdown",
   "metadata": {},
   "source": [
    "### 2.2.1) RF Model Tuning & Identifying Threshold"
   ]
  },
  {
   "cell_type": "code",
   "execution_count": 40,
   "metadata": {},
   "outputs": [
    {
     "name": "stdout",
     "output_type": "stream",
     "text": [
      "Counter({0: 1302, 1: 618})\n",
      "Counter({0: 326, 1: 155})\n",
      "1920\n",
      "1920\n",
      "481\n",
      "481\n"
     ]
    }
   ],
   "source": [
    "x = encoded.drop([\"default_status\"], axis=1)\n",
    "y = encoded[\"default_status\"]\n",
    "\n",
    "x_train, x_test, y_train, y_test = model_selection.train_test_split(x, y, \n",
    "            test_size=0.2, stratify=y, shuffle=True, random_state=123)\n",
    "\n",
    "scaler = MinMaxScaler()\n",
    "x_train = scaler.fit_transform(x_train)\n",
    "x_test = scaler.transform(x_test)\n",
    "\n",
    "x_train = np.array(x_train.tolist())\n",
    "y_train = np.array(y_train.tolist())\n",
    "x_test = np.array(x_test.tolist())\n",
    "y_test = np.array(y_test.tolist())\n",
    "\n",
    "from collections import Counter\n",
    "print(Counter(y_train))\n",
    "print(Counter(y_test))\n",
    "\n",
    "print(len(x_train))\n",
    "print(len(y_train))\n",
    "print(len(x_test))\n",
    "print(len(y_test))"
   ]
  },
  {
   "cell_type": "code",
   "execution_count": 41,
   "metadata": {},
   "outputs": [],
   "source": [
    "# upsample minority class\n",
    "sm = SMOTE(random_state = 5)\n",
    "x_upsampled_train, y_upsampled_train = sm.fit_resample(x_train, y_train)"
   ]
  },
  {
   "cell_type": "code",
   "execution_count": 42,
   "metadata": {},
   "outputs": [
    {
     "name": "stderr",
     "output_type": "stream",
     "text": [
      "Precision is ill-defined and being set to 0.0 due to no predicted samples. Use `zero_division` parameter to control this behavior.\n"
     ]
    }
   ],
   "source": [
    "# model with default parameters\n",
    "default_model = ensemble.RandomForestClassifier(random_state=123)\n",
    "default_model.fit(x_upsampled_train, y_upsampled_train)\n",
    "y_pred = default_model.predict(x_test)\n",
    "y_test_probs = default_model.predict_proba(x_test)[:,1]\n",
    "\n",
    "f1_scores = []\n",
    "f0_5_scores = []\n",
    "f2_scores = []\n",
    "precision_scores = []\n",
    "recall_scores = []\n",
    "\n",
    "# Define probability thresholds to use, between 0 and 1\n",
    "probability_thresholds = np.linspace(0, 1, num=100)\n",
    "\n",
    "# Find scores for each threshold\n",
    "for p in probability_thresholds:\n",
    "    y_test_preds = []\n",
    "    \n",
    "    for prob in y_test_probs:\n",
    "        if prob > p:\n",
    "            y_test_preds.append(1)\n",
    "        else:\n",
    "            y_test_preds.append(0)\n",
    "            \n",
    "    f1 = metrics.f1_score(y_test, y_test_preds)\n",
    "    f0_5 = metrics.fbeta_score(y_test, y_test_preds, beta=0.5)\n",
    "    f2 = metrics.fbeta_score(y_test, y_test_preds, beta=2)\n",
    "    prec = metrics.precision_score(y_test, y_test_preds)\n",
    "    rec = metrics.recall_score(y_test, y_test_preds)\n",
    "        \n",
    "    f1_scores.append(f1)\n",
    "    f0_5_scores.append(f0_5)\n",
    "    f2_scores.append(f2)\n",
    "    precision_scores.append(prec)\n",
    "    recall_scores.append(rec)"
   ]
  },
  {
   "cell_type": "code",
   "execution_count": 43,
   "metadata": {},
   "outputs": [
    {
     "data": {
      "image/png": "[encoded data removed]",
      "text/plain": [
       "<Figure size 576x432 with 1 Axes>"
      ]
     },
     "metadata": {},
     "output_type": "display_data"
    }
   ],
   "source": [
    "import matplotlib.pyplot as plt\n",
    "# Plot f_beta, precision, recall curves\n",
    "fig, ax = plt.subplots(figsize=(8,6))\n",
    "ax.plot(probability_thresholds, f0_5_scores , label='f0.5')\n",
    "ax.plot(probability_thresholds, f1_scores, label='f1')\n",
    "ax.plot(probability_thresholds, f2_scores, label='f2')\n",
    "ax.plot(probability_thresholds, precision_scores, label='Precision')\n",
    "ax.plot(probability_thresholds, recall_scores, label='Recall')\n",
    "ax.set_xlabel('Probability Threshold')\n",
    "ax.set_ylabel('f-beta score')\n",
    "ax.legend(loc='center right');"
   ]
  },
  {
   "cell_type": "code",
   "execution_count": 44,
   "metadata": {},
   "outputs": [
    {
     "data": {
      "text/plain": [
       "0.32323232323232326"
      ]
     },
     "execution_count": 44,
     "metadata": {},
     "output_type": "execute_result"
    }
   ],
   "source": [
    "max_position=np.argmax(f2_scores)\n",
    "optimal_threshold=probability_thresholds[max_position]\n",
    "optimal_threshold"
   ]
  },
  {
   "cell_type": "markdown",
   "metadata": {},
   "source": [
    "Hyperparameter tuning using grid search"
   ]
  },
  {
   "cell_type": "code",
   "execution_count": 45,
   "metadata": {},
   "outputs": [
    {
     "name": "stdout",
     "output_type": "stream",
     "text": [
      "Fitting 3 folds for each of 160 candidates, totalling 480 fits\n",
      "{'max_depth': 10, 'max_features': 10, 'min_samples_leaf': 1, 'min_samples_split': 5, 'n_estimators': 500}\n"
     ]
    }
   ],
   "source": [
    "# parameter tuning using grid search\n",
    "from sklearn.model_selection import GridSearchCV\n",
    "f2_score = metrics.make_scorer(metrics.fbeta_score, beta=2)\n",
    "scorer = metrics.make_scorer(metrics.fbeta_score, beta=2)\n",
    "param_grid = {\"n_estimators\": [10,50,100,200,500] ,\n",
    "              'max_depth': [5 ,10],\n",
    "              'max_features': ['auto', 'log2',5,10],\n",
    "              'min_samples_leaf': [1, 3],\n",
    "              'min_samples_split': [2, 5]}\n",
    "\n",
    "rf = ensemble.RandomForestClassifier()\n",
    "\n",
    "grid_search = GridSearchCV(estimator=rf, param_grid=param_grid, scoring=f2_score, cv=3, n_jobs=-1, verbose=2)\n",
    "\n",
    "grid_search.fit(x_upsampled_train, y_upsampled_train)\n",
    "\n",
    "print(grid_search.best_params_)"
   ]
  },
  {
   "cell_type": "code",
   "execution_count": 46,
   "metadata": {},
   "outputs": [
    {
     "name": "stdout",
     "output_type": "stream",
     "text": [
      "Accuracy: 86.07\n",
      "Precision: 72.22\n",
      "Recall: 92.26\n",
      "f-beta score: 87.41\n",
      "AUC: 0.95606570354245\n"
     ]
    },
    {
     "data": {
      "image/png": "[encoded data removed]",
      "text/plain": [
       "<Figure size 360x360 with 1 Axes>"
      ]
     },
     "metadata": {},
     "output_type": "display_data"
    }
   ],
   "source": [
    "# evaluate model on testing data\n",
    "best_model = grid_search.best_estimator_\n",
    "y_pred_probs=best_model.predict_proba(x_test)[:,1]\n",
    "y_test_pred = []\n",
    "\n",
    "for prob in y_pred_probs:\n",
    "    if prob > optimal_threshold:\n",
    "        y_test_pred.append(1)\n",
    "    else:\n",
    "        y_test_pred.append(0)\n",
    "\n",
    "print('Accuracy:', round(metrics.accuracy_score(y_test, y_test_pred)*100,2))\n",
    "print('Precision:', round(metrics.precision_score(y_test, y_test_pred)*100,2))\n",
    "print('Recall:', round( metrics.recall_score(y_test, y_test_pred)*100,2))\n",
    "print('f-beta score:', round(fbeta_score(y_test, y_test_pred,  beta=2, labels=None, pos_label=1)*100,2))\n",
    "\n",
    "# calculate the ROC curve\n",
    "fpr, tpr, thresholds = metrics.roc_curve(y_test, y_pred_probs)\n",
    "# Calculate AUC\n",
    "print('AUC:', metrics.roc_auc_score(y_test, y_pred_probs))\n",
    "\n",
    "plt.plot([0, 1], [0, 1], ls = '--')\n",
    "plt.plot(fpr, tpr, marker = '.')\n",
    "plt.xlabel('FPR')\n",
    "plt.ylabel('TPR')\n",
    "plt.title('ROC Curve')\n",
    "plt.show()"
   ]
  },
  {
   "cell_type": "code",
   "execution_count": 47,
   "metadata": {},
   "outputs": [
    {
     "data": {
      "image/png": "[encoded data removed]",
      "text/plain": [
       "<Figure size 216x216 with 2 Axes>"
      ]
     },
     "metadata": {},
     "output_type": "display_data"
    }
   ],
   "source": [
    "import seaborn as sns\n",
    "plt.figure(figsize=(3,3))\n",
    "sns.heatmap(metrics.confusion_matrix(y_test,y_test_pred), annot=True, fmt=\".3f\", linewidths=.2, square = True, cmap = 'Blues_r');\n",
    "plt.ylabel('Actual label');\n",
    "plt.xlabel('Predicted label');\n",
    "all_sample_title = 'F-2 Score: {0}'.format(round(metrics.fbeta_score(y_test, y_test_pred, beta=2)*100,2))\n",
    "plt.title(all_sample_title, size = 10);"
   ]
  },
  {
   "cell_type": "markdown",
   "metadata": {},
   "source": [
    "###  2.3) Evaluation of Model"
   ]
  },
  {
   "cell_type": "markdown",
   "metadata": {},
   "source": [
    "The above 'best_model' is the best performing random forest model with an accuracy of 86% and f2 score of 87%. This model will be used to predict the test data."
   ]
  },
  {
   "cell_type": "markdown",
   "metadata": {},
   "source": [
    "## 3) Feature Importance"
   ]
  },
  {
   "cell_type": "code",
   "execution_count": 48,
   "metadata": {},
   "outputs": [
    {
     "data": {
      "image/png": "[encoded data removed]",
      "text/plain": [
       "<Figure size 576x453.6 with 1 Axes>"
      ]
     },
     "metadata": {},
     "output_type": "display_data"
    }
   ],
   "source": [
    "# finding feature importance\n",
    "explainer = shap.TreeExplainer(best_model)\n",
    "shap_values = explainer.shap_values(x_test, check_additivity=False)\n",
    "shap.summary_plot(shap_values, x_test, plot_type=\"bar\", feature_names=x.columns, show=False)\n",
    "plt.show()"
   ]
  },
  {
   "cell_type": "markdown",
   "metadata": {},
   "source": [
    "As from the top features identified, we can see that term, loan amount and the difference in loan and insured amount have contributed to the model's prediction."
   ]
  },
  {
   "cell_type": "markdown",
   "metadata": {},
   "source": [
    "## 4) Given Test Data Predictions"
   ]
  },
  {
   "cell_type": "code",
   "execution_count": 49,
   "metadata": {},
   "outputs": [],
   "source": [
    "test_raw = pd.read_csv('data/test.csv')\n",
    "\n",
    "#processing test data\n",
    "test=test_raw\n",
    "test[test.columns[10:12]] = test[test.columns[10:12]].replace('[\\$,]', '', regex=True).astype(float)\n",
    "test['business_type']=test['business_type'].apply(str)\n",
    "\n",
    "test['id']=test['id'].apply(str)\n",
    "test = test.drop(columns=['id'])\n",
    "test = test.drop(columns=['location'])\n",
    "test=test.drop(columns=['request_date'])\n",
    "test = pd.get_dummies(test, columns = ['business_new', 'business_type','other_loans'])\n",
    "\n",
    "test = test.merge(encodings1, how='left', on='industry')\n",
    "test = test.merge(encodings2, how='left', on='state')\n",
    "test.drop('industry', axis=1, inplace=True)\n",
    "test.drop('state', axis=1, inplace=True)\n",
    "\n",
    "test.rename(columns = {'default_status_x':'industry','default_status_y':'state'}, inplace = True)\n",
    "test['insurance_amount'] = test['loan_amount']-test['insured_amount']\n",
    "test=test.drop(columns=['insured_amount'])"
   ]
  },
  {
   "cell_type": "code",
   "execution_count": 50,
   "metadata": {},
   "outputs": [],
   "source": [
    "y_pred_probs=best_model.predict_proba(test)[:,1]\n",
    "y_test_pred = []\n",
    "\n",
    "for prob in y_pred_probs:\n",
    "    if prob > optimal_threshold:\n",
    "        y_test_pred.append(1)\n",
    "    else:\n",
    "        y_test_pred.append(0)"
   ]
  },
  {
   "cell_type": "code",
   "execution_count": 51,
   "metadata": {},
   "outputs": [],
   "source": [
    "predictions=test_raw\n",
    "predictions['default_status']=y_test_pred\n",
    "final=predictions[['id','default_status']]"
   ]
  },
  {
   "cell_type": "code",
   "execution_count": 52,
   "metadata": {},
   "outputs": [],
   "source": [
    "final.to_csv('output.csv',index=False)"
   ]
  },
  {
   "cell_type": "code",
   "execution_count": null,
   "metadata": {},
   "outputs": [],
   "source": []
  }
 ],
 "metadata": {
  "kernelspec": {
   "display_name": "Python 3",
   "language": "python",
   "name": "python3"
  },
  "language_info": {
   "codemirror_mode": {
    "name": "ipython",
    "version": 3
   },
   "file_extension": ".py",
   "mimetype": "text/x-python",
   "name": "python",
   "nbconvert_exporter": "python",
   "pygments_lexer": "ipython3",
   "version": "3.7.6"
  }
 },
 "nbformat": 4,
 "nbformat_minor": 4
}
